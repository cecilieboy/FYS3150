{
 "cells": [
  {
   "cell_type": "code",
   "execution_count": 44,
   "metadata": {},
   "outputs": [],
   "source": [
    "import numpy as np"
   ]
  },
  {
   "cell_type": "code",
   "execution_count": 100,
   "metadata": {},
   "outputs": [],
   "source": [
    "#def bisection(a,b):\n",
    "    \n",
    "def charac_poly(a,b):\n",
    "\n",
    "    f = np.zeros(len(a))\n",
    "\n",
    "\n",
    "    \n",
    "\n",
    "\n",
    "    for i in range(len(a)):\n",
    "        \n",
    "\n",
    "        if i == 0:\n",
    "\n",
    "            f[i] = 1 \n",
    "\n",
    "        else:\n",
    "\n",
    "            f[i] = (a[i - 1]) * f[i - 1] - b[i - 2]**2 * f[i - 2]\n",
    "            \n",
    "    charac_poly = f[len(f) - 1]        \n",
    "\n",
    "    return charac_poly \n",
    "    \n",
    "    \n",
    "def bifunction(a,b,wert1,wert2,max_count, tolerance):\n",
    "    \n",
    "    count = 0\n",
    "    \n",
    "    while np.abs(wert2 - wert1) > tolerance and count < max_count:\n",
    "        \n",
    "        \n",
    "            \n",
    "        if charac_poly(a - wert2,b) * charac_poly((wert1 + wert2) / 2, b) > 0:\n",
    "\n",
    "            wert1 = (wert1 + wert2) / 2\n",
    "\n",
    "        if charac_poly(a - wert1,b) * charac_poly((wert1 + wer2) / 2,b) > 0:\n",
    "\n",
    "            wert2 = (wert1 + wert2) / 2\n",
    "\n",
    "        count += 1 \n",
    "        \n",
    "        return wert1\n",
    "    \n",
    "    \n",
    "        \n",
    "            \n",
    "            \n",
    "            \n",
    "    \n",
    "\n",
    "    \n",
    "\n",
    "\n",
    "\n",
    "            "
   ]
  },
  {
   "cell_type": "code",
   "execution_count": 97,
   "metadata": {},
   "outputs": [
    {
     "name": "stdout",
     "output_type": "stream",
     "text": [
      "durchgang= 0\n",
      "durchgang= 1\n",
      "2.0\n",
      "durchgang= 2\n",
      "3.0\n",
      "charac_poly 3.0\n",
      "None\n"
     ]
    }
   ],
   "source": [
    "\n",
    "print(charac_poly(np.full(3,2),np.full(2,1)))\n"
   ]
  },
  {
   "cell_type": "code",
   "execution_count": 65,
   "metadata": {},
   "outputs": [
    {
     "name": "stdout",
     "output_type": "stream",
     "text": [
      "0\n",
      "1\n",
      "2\n",
      "3\n",
      "4\n"
     ]
    }
   ],
   "source": [
    "for i in range(4):\n",
    "    print(i)\n",
    "    \n",
    "print(len([1,2,3,4]))"
   ]
  },
  {
   "cell_type": "code",
   "execution_count": 75,
   "metadata": {},
   "outputs": [
    {
     "name": "stdout",
     "output_type": "stream",
     "text": [
      "[[0. 0. 0. 0.]\n",
      " [0. 0. 0. 0.]\n",
      " [0. 0. 0. 0.]\n",
      " [0. 0. 0. 0.]]\n",
      "(4, 4)\n"
     ]
    }
   ],
   "source": [
    "a = np.zeros((4,4))\n",
    "print(a)\n",
    "b = np.shape(a)\n",
    "print(b)"
   ]
  },
  {
   "cell_type": "code",
   "execution_count": null,
   "metadata": {},
   "outputs": [],
   "source": []
  }
 ],
 "metadata": {
  "kernelspec": {
   "display_name": "Python 3",
   "language": "python",
   "name": "python3"
  },
  "language_info": {
   "codemirror_mode": {
    "name": "ipython",
    "version": 3
   },
   "file_extension": ".py",
   "mimetype": "text/x-python",
   "name": "python",
   "nbconvert_exporter": "python",
   "pygments_lexer": "ipython3",
   "version": "3.7.3"
  }
 },
 "nbformat": 4,
 "nbformat_minor": 4
}
