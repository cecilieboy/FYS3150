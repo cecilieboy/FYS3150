{
 "cells": [
  {
   "cell_type": "code",
   "execution_count": 1,
   "metadata": {},
   "outputs": [],
   "source": [
    "import numpy as np\n",
    "from scipy.special import legendre\n",
    "import numpy.polynomial.legendre as leg\n",
    "from numpy.linalg import inv"
   ]
  },
  {
   "cell_type": "code",
   "execution_count": 2,
   "metadata": {},
   "outputs": [],
   "source": [
    "def returnroots (N):\n",
    "    input = np.zeros(N+1)\n",
    "    for i in range(N+1):\n",
    "        input[i] = 0 \n",
    "        input[N] = 1\n",
    "    roots = leg.legroots(input)\n",
    "    return roots "
   ]
  },
  {
   "cell_type": "code",
   "execution_count": 3,
   "metadata": {},
   "outputs": [],
   "source": [
    "def L_function (N):\n",
    "    L = np.zeros((N, N))\n",
    "    roots = returnroots(N)\n",
    "    for i in range(N):\n",
    "        input = np.zeros(N)\n",
    "        for j in range(N):\n",
    "            input[i] = 1\n",
    "            L[j,i] = leg.legval(roots[j], input)  \n",
    "    L_invers = inv(L)\n",
    "    weights = 2 * L_invers[0,:]   \n",
    "    return weights "
   ]
  },
  {
   "cell_type": "code",
   "execution_count": 4,
   "metadata": {},
   "outputs": [],
   "source": [
    "def function(N):\n",
    "    x = returnroots(N)\n",
    "    f = x**2\n",
    "    return f "
   ]
  },
  {
   "cell_type": "code",
   "execution_count": 5,
   "metadata": {},
   "outputs": [],
   "source": [
    "def integral(N):\n",
    "    sum = 0\n",
    "    f = function(N)\n",
    "    weights = L_function(N)\n",
    "    for i in range(N):\n",
    "        value = weights[i] * f[i]\n",
    "        sum += value \n",
    "    return sum"
   ]
  },
  {
   "cell_type": "code",
   "execution_count": null,
   "metadata": {},
   "outputs": [],
   "source": []
  }
 ],
 "metadata": {
  "kernelspec": {
   "display_name": "Python 3",
   "language": "python",
   "name": "python3"
  },
  "language_info": {
   "codemirror_mode": {
    "name": "ipython",
    "version": 3
   },
   "file_extension": ".py",
   "mimetype": "text/x-python",
   "name": "python",
   "nbconvert_exporter": "python",
   "pygments_lexer": "ipython3",
   "version": "3.7.3"
  }
 },
 "nbformat": 4,
 "nbformat_minor": 4
}
