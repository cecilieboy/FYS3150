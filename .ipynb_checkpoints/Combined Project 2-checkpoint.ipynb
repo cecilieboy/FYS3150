{
 "cells": [
  {
   "cell_type": "code",
   "execution_count": 12,
   "metadata": {},
   "outputs": [],
   "source": [
    "import numpy as np\n",
    "from numpy import linalg as LA\n",
    "import matplotlib.pyplot as plt "
   ]
  },
  {
   "cell_type": "code",
   "execution_count": 13,
   "metadata": {},
   "outputs": [],
   "source": [
    "def rotation(A,l,k,v): \n",
    "# A er matricen der skal diagonaliseres\n",
    "# l, k er positionerne for rotationsledende og positionerne i A der bliver minimeret\n",
    "# v er en mastrix bestående af basisvektorene\n",
    "    \n",
    "    B = np.copy(A)    \n",
    "    w = np.copy(v)\n",
    "    tau = (A[l,l] - A[k,k]) / (2 * A[k,l])\n",
    "#tau er defineret sådan så vi får en andengradsligning\n",
    "\n",
    "    tplus  = -tau + np.sqrt(1 + tau**2)\n",
    "    tminus = -tau - np.sqrt(1 + tau**2)\n",
    "#Udfra betingelsen at b_kl = 0, får vi en andengradsligning med disse løsninger for t        \n",
    "\n",
    "    if abs(tplus) < abs(tminus):\n",
    "        t = tplus\n",
    "    else:\n",
    "        t = tminus\n",
    "#Vi skal åbenbart altid vælge den mindre t?\n",
    "        \n",
    "    c = 1 / (np.sqrt(1 + t**2))\n",
    "    s = t * c\n",
    "    for j in range(len(v)):\n",
    "\n",
    "        w[j,k] =   c * v[j,k] - s * v[j,l]\n",
    "        w[j,l] =   s * v[j,k] + c * v[j,l]\n",
    "\n",
    "#Vi fandt ud af ved testing at, hvis vi bruger rotatione matricen, sker der kun noget med k'te og l'te række i vær emkel søjle\n",
    "\n",
    "    B[k,k] = A[k,k] * c**2 - 2 * A[k,l] * c * s + A[l,l] * s**2\n",
    "    B[l,l] = A[l,l] * c**2 + 2 * A[k,l] * c * s + A[k,k] * s**2\n",
    "    B[k,l] = B[l,k] = 0\n",
    "# Her sker selve rotationen\n",
    "\n",
    "    for i in range(len(A)):\n",
    "        if i != k and i != l:\n",
    "            B[i,k] = B[k,i] = A[i,k] * c - A[i,l] * s\n",
    "            B[i,l] = B[l,i] = A[i,l] * c + A[i,k] * s\n",
    "#Alle andre led i k,l -række/søjle ændrer også værdi\n",
    "\n",
    "\n",
    "    return B,w"
   ]
  },
  {
   "cell_type": "code",
   "execution_count": 14,
   "metadata": {},
   "outputs": [],
   "source": [
    "def condition(A, max_value):\n",
    "#condition som stopper alogrithmen (returner False) ligeså snart den ikke finder nogen værdi som ligger over max\n",
    "    for i in range(len(A)):\n",
    "        for j in range(len(A)):\n",
    "            if i !=j:\n",
    "                if np.abs(A[i,j]) > max_value:\n",
    "                    return True\n",
    "    return False"
   ]
  },
  {
   "cell_type": "code",
   "execution_count": 15,
   "metadata": {},
   "outputs": [],
   "source": [
    "def diag_A(A, tol = 10**(-10), max_count =1000): \n",
    "    n = len(A)    \n",
    "    v = np.eye(n,n)\n",
    "    count = 0\n",
    "    while condition(A, tol) and count < max_count:    \n",
    "        highestmatrixentry = 0  \n",
    "        for i in range(len(A)):\n",
    "            for j in range(len(A)):\n",
    "                if i != j: \n",
    "                    if np.abs(A[i,j]) > highestmatrixentry:\n",
    "                        highestmatrixentry = np.abs(A[i,j])\n",
    "                        l, k = i, j\n",
    "    #Finder positionen af den højeste matrice indgang, med et loop som går igennem alle indgangene og opdaterer den højeste indgangs vœrdi/position\n",
    "        A,v = rotation(A,l,k,v)\n",
    "        count += 1  \n",
    "    #sort eigenvalues\n",
    "    lam = np.diag(A)\n",
    "    ind_sort = np.argsort(lam)\n",
    "    vT = v.T\n",
    "    lam_sort = np.zeros(lam.shape)\n",
    "    vT_sort = np.zeros(vT.shape) \n",
    "    for i in range(len(lam)):\n",
    "        ind = ind_sort[i]\n",
    "        lam_sort[i] = lam[ind]\n",
    "        vT_sort[i] = vT[ind]\n",
    "    #returns sorted eigen values and sorted eigenvectors column-wise\n",
    "    return lam_sort, vT_sort"
   ]
  },
  {
   "cell_type": "code",
   "execution_count": 16,
   "metadata": {},
   "outputs": [],
   "source": [
    "def discretize_HO(integrationpoints,rho_min = 0, rho_max = 10):\n",
    "    h = (rho_max -rho_min) / integrationpoints\n",
    "    print(h)\n",
    "    rho = np.array([rho_min +i *h for i in range(1,integrationpoints)])\n",
    "    d = 2.0/h**2 * np.eye(integrationpoints -1) + np.diag(rho**2)\n",
    "    e_upper = - 1.0/h**2 * np.eye(integrationpoints -1 , k=1)\n",
    "    e_lower = - 1.0/h**2 * np.eye(integrationpoints -1 , k=-1)\n",
    "    return d + e_lower + e_upper, rho"
   ]
  },
  {
   "cell_type": "code",
   "execution_count": 17,
   "metadata": {},
   "outputs": [],
   "source": [
    "def main():\n",
    "    integration_points = [i*10 for i in range(1, 11)]\n",
    "    rho_max = [5, 7.5, 10]\n",
    "    lam_theo = [3 + i*4 for i in range(N)]\n",
    "    A,rho = discretize_HO(60, rho_max=10)\n",
    "    lam, u = diag_A(A)\n",
    "    plt.figure(figsize=(10,10))\n",
    "    for i in range(5):\n",
    "        plt.plot(rho , u[i]**2, label = \"$\\lambda$ = %.4f\" %lam[i] )\n",
    "    plt.legend(loc = 'best', fontsize = 24)\n",
    "    plt.xlabel(r\"$\\rho$\", fontsize = 24)\n",
    "    plt.ylabel(r\"|u($\\rho$)|$^2$\", fontsize = 24)\n",
    "    plt.show()\n",
    "\n"
   ]
  },
  {
   "cell_type": "code",
   "execution_count": 50,
   "metadata": {},
   "outputs": [
    {
     "name": "stdout",
     "output_type": "stream",
     "text": [
      "Test: orthogonality of Eigenvectors:\n"
     ]
    }
   ],
   "source": [
    "print('Test: orthogonality of Eigenvectors:')\n",
    "eigval,v = diag_A(A)\n",
    "def orthogonalitytest(v,exactness):\n",
    "    \n",
    "    T = np.dot(np.transpose(v),v)\n",
    "    print('Inner product', np.dot(np.transpose(v),v))\n",
    "    \n",
    "    for i in range(len(A)):\n",
    "        for j in range(len(A)):\n",
    "            if i == j: \n",
    "                if T[i,j] < 1 - exactness or T[i,j] > 1 + exactness:\n",
    "                    return False\n",
    "                else:\n",
    "                    pass\n",
    "            if i!= j: \n",
    "                if T[i,j] < 0 - exactness or T[i,j] > 0 + exactness:\n",
    "                    return False\n",
    "                else:\n",
    "                    pass\n",
    "    return True\n",
    "\n"
   ]
  },
  {
   "cell_type": "code",
   "execution_count": 51,
   "metadata": {},
   "outputs": [
    {
     "name": "stdout",
     "output_type": "stream",
     "text": [
      "Inner product [[1.00000000e+00 2.99060035e-18 0.00000000e+00 0.00000000e+00]\n",
      " [2.99060035e-18 1.00000000e+00 0.00000000e+00 0.00000000e+00]\n",
      " [0.00000000e+00 0.00000000e+00 1.00000000e+00 2.99060035e-18]\n",
      " [0.00000000e+00 0.00000000e+00 2.99060035e-18 1.00000000e+00]]\n",
      "[0.38196601 1.38196601 2.61803399 3.61803399]\n"
     ]
    }
   ],
   "source": [
    "A = 2 * np.eye(4,4) -1 * np.eye(4,4,k=-1) -1 * np.eye(4,4,k=1)\n",
    "\n",
    "diag_A(A)\n",
    "\n",
    "orthogonalitytest(v,1)\n",
    "print(eigval)"
   ]
  },
  {
   "cell_type": "code",
   "execution_count": 95,
   "metadata": {},
   "outputs": [],
   "source": [
    "def eigenvaluetest(eigval,exactness):\n",
    "  \n",
    "    d = 2\n",
    "    a = -1\n",
    "    N = len(A)\n",
    "\n",
    "    anal_eigvalues = np.zeros(len(A))\n",
    "    j = np.arange(1,len(A)+1,1)\n",
    "\n",
    "    #find analytical eigenvalues:    \n",
    "    for i in range(len(A)):\n",
    "        anal_eigvalues[i] = d + 2 * a * np.cos((j[i] * np.pi)/ (N + 1))\n",
    "        #anal_eigvalues.append(anal_eigval)\n",
    "    \n",
    "    print(anal_eigvalues)\n",
    "    \n",
    "    for i in range(len(A)-1):\n",
    "        print(i)\n",
    "        print(eigval[i])\n",
    "        print(anal_eigvalues[i])\n",
    "        if eigval[i] > anal_eigvalues[i] + exactness or eigval[i] < anal_eigvalues[i] - exactness:\n",
    "            return False\n",
    "        \n",
    "    return True\n",
    "        \n",
    "        "
   ]
  },
  {
   "cell_type": "code",
   "execution_count": null,
   "metadata": {},
   "outputs": [],
   "source": []
  },
  {
   "cell_type": "code",
   "execution_count": null,
   "metadata": {},
   "outputs": [],
   "source": []
  }
 ],
 "metadata": {
  "kernelspec": {
   "display_name": "Python 3",
   "language": "python",
   "name": "python3"
  },
  "language_info": {
   "codemirror_mode": {
    "name": "ipython",
    "version": 3
   },
   "file_extension": ".py",
   "mimetype": "text/x-python",
   "name": "python",
   "nbconvert_exporter": "python",
   "pygments_lexer": "ipython3",
   "version": "3.7.3"
  }
 },
 "nbformat": 4,
 "nbformat_minor": 4
}
