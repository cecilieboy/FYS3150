{
 "cells": [
  {
   "cell_type": "code",
   "execution_count": 30,
   "metadata": {},
   "outputs": [],
   "source": [
    "import numpy as np\n",
    "from numpy import linalg as LA\n",
    "import matplotlib.pyplot as plt "
   ]
  },
  {
   "cell_type": "code",
   "execution_count": null,
   "metadata": {},
   "outputs": [],
   "source": [
    "def rotation(A,l,k,v): \n",
    "# A er matricen der skal diagonaliseres\n",
    "# l, k er positionerne for rotationsledende og positionerne i A der bliver minimeret\n",
    "# v er en mastrix bestående af basisvektorene\n",
    "    \n",
    "    B = np.copy(A)    \n",
    "    w = np.copy(v)\n",
    "    tau = (A[l,l] - A[k,k]) / (2 * A[k,l])\n",
    "#tau er defineret sådan så vi får en andengradsligning\n",
    "\n",
    "    tplus  = 1.0/(tau + np.sqrt(1 + tau**2))\n",
    "    tminus = 1.0/(tau - np.sqrt(1 + tau**2))\n",
    "#Udfra betingelsen at b_kl = 0, får vi en andengradsligning med disse løsninger for t        \n",
    "\n",
    "    if abs(tplus) < abs(tminus):\n",
    "        t = tplus\n",
    "    else:\n",
    "        t = tminus\n",
    "\n",
    "        \n",
    "    c = 1.0 / (np.sqrt(1 + t**2))\n",
    "    s = t * c\n",
    "    for j in range(len(v)):\n",
    "\n",
    "        w[j,k] =   c * v[j,k] - s * v[j,l]\n",
    "        w[j,l] =   s * v[j,k] + c * v[j,l]\n",
    "        # Her sker selve rotationen\n",
    "\n",
    "        if j != k and j != l:\n",
    "            B[j,k] = B[k,j] = A[j,k] * c - A[j,l] * s\n",
    "            B[j,l] = B[l,j] = A[j,l] * c + A[j,k] * s\n",
    "\n",
    "#Vi fandt ud af ved testing at, hvis vi bruger rotations matricen, sker der kun noget med k'te og l'te række i vær enkel søjle\n",
    "\n",
    "    B[k,k] = A[k,k] * c**2 - 2 * A[k,l] * c * s + A[l,l] * s**2\n",
    "    B[l,l] = A[l,l] * c**2 + 2 * A[k,l] * c * s + A[k,k] * s**2\n",
    "    B[k,l] = B[l,k] = 0\n",
    "\n",
    "\n",
    "    return B,w"
   ]
  },
  {
   "cell_type": "code",
   "execution_count": 55,
   "metadata": {},
   "outputs": [],
   "source": [
    "def diag_A(A, tol = 10**(-10), max_count =1000): \n",
    "    n = len(A)    \n",
    "    v = np.eye(n,n)\n",
    "    count = 0\n",
    "    while count < max_count:    \n",
    "        highestmatrixentry = -1  \n",
    "        for i in range(len(A)-1):\n",
    "            temp = np.argmax(np.abs(A[i, i+1:]))\n",
    "            temp += i+1\n",
    "            if np.abs(A[i,temp]) > highestmatrixentry:\n",
    "                highestmatrixentry = np.abs(A[i,temp])\n",
    "                l, k= i, temp\n",
    "        if highestmatrixentry < tol:\n",
    "            break\n",
    "    #Finder positionen af den højeste matrice indgang, med et loop som går igennem alle indgangene og opdaterer den højeste indgangs vœrdi/position\n",
    "        A,v = rotation(A,l,k,v)\n",
    "        count += 1  \n",
    "    #sort eigenvalues\n",
    "    lam = np.diag(A)\n",
    "    ind_sort = np.argsort(lam)\n",
    "    vT = v.T\n",
    "    lam_sort = np.zeros(lam.shape)\n",
    "    vT_sort = np.zeros(vT.shape) \n",
    "    for i in range(len(lam)):\n",
    "        ind = ind_sort[i]\n",
    "        lam_sort[i] = lam[ind]\n",
    "        vT_sort[i] = vT[ind]\n",
    "    #returns sorted eigen values and sorted eigenvectors column-wise\n",
    "    return lam_sort, vT_sort, count\n",
    "\n"
   ]
  },
  {
   "cell_type": "code",
   "execution_count": 56,
   "metadata": {},
   "outputs": [],
   "source": [
    "def discretize_HO(integrationpoints,rho_min = 0, rho_max = 10):\n",
    "    h = (rho_max -rho_min) / integrationpoints\n",
    "    rho = np.array([rho_min +i *h for i in range(1,integrationpoints)])\n",
    "    d = 2.0/h**2 * np.eye(integrationpoints -1) + np.diag(rho**2)\n",
    "    e_upper = - 1.0/h**2 * np.eye(integrationpoints -1 , k=1)\n",
    "    e_lower = - 1.0/h**2 * np.eye(integrationpoints -1 , k=-1)\n",
    "    return d + e_lower + e_upper, rho"
   ]
  },
  {
   "cell_type": "code",
   "execution_count": 57,
   "metadata": {},
   "outputs": [],
   "source": [
    "def charac_poly(a,b):\n",
    "    n = len(a) + 1\n",
    "    f, q = np.zeros((2,n))\n",
    "    f[0] = 1\n",
    "    for i in range(0, n -1):\n",
    "        f[i + 1] = a[i] * f[i] \n",
    "        if i > 0:\n",
    "            f[i+1] -= b[i-1]**2 * f[i - 1] \n",
    "        if abs(f[i]) < 10**(-15):\n",
    "            q[i + 1] = a[i] - abs(b[i-1])*10**(-15)\n",
    "        else:\n",
    "            q[i +1] = f[i + 1]/f[i]\n",
    "    return f[-1]"
   ]
  },
  {
   "cell_type": "code",
   "execution_count": 58,
   "metadata": {},
   "outputs": [],
   "source": [
    "def stable_ver(a,b):\n",
    "    n = len(a) \n",
    "    q = np.zeros(n + 1)\n",
    "    q[0] = 1\n",
    "    q[1] = a[0]\n",
    "    for i in range(1, n):\n",
    "        q[i+1] = a[i] - b[i-1]**2 / q[i - 1]\n",
    "    return q[-1]"
   ]
  },
  {
   "cell_type": "code",
   "execution_count": 59,
   "metadata": {},
   "outputs": [],
   "source": [
    "def bisect(a, b, low, up, max_count, tolerance):\n",
    "    \n",
    "    count = 0    \n",
    "    while np.abs(up - low) > tolerance and count < max_count:\n",
    "        c = 0.5*(low + up)\n",
    "        fa = charac_poly(a - low, b)\n",
    "        fb = charac_poly(a - up, b)\n",
    "        fc = charac_poly(a - c, b)   \n",
    "        if fa*fb > 0:\n",
    "            raise ArithmeticError(\"Fail at \", count)   \n",
    "            \n",
    "        if fa*fc < 0:\n",
    "            up = c \n",
    "        if fc*fb < 0:\n",
    "            low = c\n",
    "        count += 1 \n",
    "    return up"
   ]
  },
  {
   "cell_type": "code",
   "execution_count": 60,
   "metadata": {},
   "outputs": [],
   "source": [
    "'''''''''\n",
    "def find_eigen(a,b, max_iter = 10**5, max_eigen = 3, tol = 10**-5):\n",
    "    \"\"\"\n",
    "    UNSTABLE VERSION\n",
    "    calculates the first max_eigen values of a tridiagonal, symetric matrix\n",
    "    with a the diagonal and b the non diagonal entries\n",
    "    a is expected to be sorted in ascending order\n",
    "    max_iter is used for the maximum number of iterations\n",
    "    returns the first max_eigen eigenvalues\n",
    "    \"\"\"\n",
    "    n = len(a)\n",
    "    lam = np.zeros(max_eigen + 1)\n",
    "    #setup bounderis with Gash Goren\n",
    "    bounds_low = np.array([a[i] - np.abs(b[i]) - np.abs(b[i+1]) for i in range(max_eigen + 1)])\n",
    "    bounds_up = np.array([a[i] + np.abs(b[i]) + np.abs(b[i+1]) for i in range(max_eigen + 1)])\n",
    "    #first iteration lam = a[0]\n",
    "    bounds_up[0] = a[0]\n",
    "    bounds_low[1] = a[0]\n",
    "    for i in range(2,n):\n",
    "        #print(i)\n",
    "        blt = np.copy(bounds_low)\n",
    "        but = np.copy(bounds_up)\n",
    "        lt = np.copy(lam)\n",
    "        for j in range(max_eigen + 1):\n",
    "            if j < i:\n",
    "                lam[j] = bisect(a[:i], b[:i - 1 ], blt[j], but[j], max_count=max_iter, tolerance=tol)\n",
    "                #update boundaries with interlacing theorem\n",
    "                bounds_up[j] = lam[j]\n",
    "                if j + 1 < max_eigen + 1:\n",
    "                    bounds_low[j + 1] = lam[j]\n",
    "\n",
    "        if np.max(np.abs(lam-lt)) < tol:\n",
    "            print('Converged')\n",
    "            return lam[:-1]\n",
    "\n",
    "    return lam[:-1]\n",
    "'''''''''"
   ]
  },
  {
   "cell_type": "code",
   "execution_count": 61,
   "metadata": {},
   "outputs": [
    {
     "data": {
      "text/plain": [
       "\"\\nBEGIN OF STABel Implementation\\ndef find_eigen(a,b, max_iter = 10**5, max_eigen = 3, tol = 10**-5):\\n    #\\n    #calculates the first max_eigen values of a tridiagonal, symetric matrix\\n    #with a the diagonal and b the non diagonal entries\\n    #a is expected to be sorted in ascending order\\n    #max_iter is used for the maximum number of iterations\\n    #returns the first max_eigen eigenvalues\\n    \\n    n = len(a)\\n    lam = np.zeros(max_eigen)\\n    #setup bounderis with Gash Goren\\n    bounds_low = a[0] - np.abs(b[0]) \\n    bounds_up = a[0] + np.abs(b[0])\\n    for j in range(max_eigen):\\n        if j > 0 :\\n            c =a[j] - np.abs(b[j]) - abs(b[j+1])\\n            if c>bounds_up:\\n                bounds_low = c\\n            else: \\n                bounds_low = bounds_up\\n            bounds_up = a[j] + abs(b[j]) + abs(b[j+1])  \\n            a = 0  \\n            q = 1        \\n            for i in range(1,n):\\n                q = a[i] -\\n                #update boundaries with interlacing theorem\\n                bounds_up = lam[j]\\n                if j + 1 < max_eigen + 1:\\n                    bounds_low[j + 1] = lam[j]\\n\\n                if bounds_up- bounds_low < tol:\\n                    print('Converged')\\n                    return lam\\n\\n    return lam\\n\""
      ]
     },
     "execution_count": 61,
     "metadata": {},
     "output_type": "execute_result"
    }
   ],
   "source": [
    "\n",
    "#BEGIN OF STABel Implementation\n",
    "def find_eigen(a,b, max_iter = 10**5, max_eigen = 3, tol = 10**-5):\n",
    "    #\n",
    "    #calculates the first max_eigen values of a tridiagonal, symetric matrix\n",
    "    #with a the diagonal and b the non diagonal entries\n",
    "    #a is expected to be sorted in ascending order\n",
    "    #max_iter is used for the maximum number of iterations\n",
    "    #returns the first max_eigen eigenvalues\n",
    "    \n",
    "    n = len(a)\n",
    "    lam = np.zeros(max_eigen)\n",
    "    #setup bounderis with Gash Goren\n",
    "    bounds_low = a[0] - np.abs(b[0]) \n",
    "    bounds_up = a[0] + np.abs(b[0])\n",
    "    for j in range(max_eigen):\n",
    "        if j > 0 :\n",
    "            c =a[j] - np.abs(b[j]) - abs(b[j+1])\n",
    "            if c>bounds_up:\n",
    "                bounds_low = c\n",
    "            else: \n",
    "                bounds_low = bounds_up\n",
    "            bounds_up = a[j] + abs(b[j]) + abs(b[j+1])  \n",
    "            a = 0  \n",
    "            q = 1        \n",
    "            for i in range(1,n):\n",
    "                q = a[i] -\n",
    "                #update boundaries with interlacing theorem\n",
    "                bounds_up = lam[j]\n",
    "                if j + 1 < max_eigen + 1:\n",
    "                    bounds_low[j + 1] = lam[j]\n",
    "\n",
    "                if bounds_up- bounds_low < tol:\n",
    "                    print('Converged')\n",
    "                    return lam\n",
    "\n",
    "    return lam"
   ]
  },
  {
   "cell_type": "code",
   "execution_count": 62,
   "metadata": {},
   "outputs": [],
   "source": [
    "def main():\n",
    "    ## benchmark diag_A n = 5, 10, 15, 20 , 25, tol e-4,e-8, e-12\n",
    "    N = [5* i for i in range(1,10)]\n",
    "    tol = [10**(-1), 10**(-8), 10**(-16)]\n",
    "    count = np.zeros((len(tol), len(N)))\n",
    "    \n",
    "    plt.figure(figsize=(10,10))\n",
    "    for i, t in enumerate(tol):\n",
    "        for j, n in enumerate(N):\n",
    "            A = -2* np.eye(n) + np.eye(n,k=1) + np.eye(n,k=-1) \n",
    "            _,  _, count[i,j] = diag_A(A, tol= t, max_count = 10**9)\n",
    "        plt.plot(N,count[i], label ='tol = %f' % t)\n",
    "    plt.legend(loc ='best', fontsize = 24)\n",
    "    plt.xlabel(r\"Dimensions\", fontsize = 24)\n",
    "    plt.ylabel(r\"# Rotation calls\", fontsize = 24)\n",
    "    plt.savefig('benchmark.pdf') \n",
    "\n",
    "   \n",
    "    \n",
    "    integration_points = [i*10 for i in range(1 ,6)]\n",
    "    rho_max = [2, 5, 7.5, 10, 12.5]\n",
    "    max_rel_err = np.zeros((len(rho_max),len(integration_points)))\n",
    "    print(\"rel. err\")\n",
    "    for i, r in enumerate(rho_max):\n",
    "        print(\"solution\")\n",
    "        A,rho = discretize_HO(60, rho_max=r)\n",
    "        lam, u, _ = diag_A(A,tol=10**(-10), max_count=10**9)\n",
    "        plt.figure(figsize=(10,10))\n",
    "        for k in range(3):\n",
    "            plt.plot(rho , u[k]**2, label = \"$\\lambda$ = %.5f\" %lam[k] )\n",
    "        plt.legend(loc = 'best', fontsize = 24)\n",
    "        plt.xlabel(r\"$\\rho$\", fontsize = 24)\n",
    "        plt.ylabel(r\"|u($\\rho$)|$^2$\", fontsize = 24)\n",
    "        plt.savefig('solution_%i.pdf'%r)\n",
    "        plt.close('all')\n",
    "        for j, N in enumerate(integration_points):\n",
    "            print(r,N)\n",
    "            lam_theo = [3 + i*4 for i in range(N-1)]\n",
    "            A, rho = discretize_HO(N, rho_max=r)\n",
    "            lam, u, c = diag_A(A, tol=10**(-5), max_count= 10**6)\n",
    "            max_rel_err[i,j] = np.max(np.abs(lam - lam_theo)/lam_theo)\n",
    "            print(\"count: %i\" %c)\n",
    "\n",
    "    plt.figure(figsize=(10,10))\n",
    "    for i in range(len(rho_max)):\n",
    "        plt.plot(integration_points, max_rel_err[i], label=r\"$\\rho_{max}$ = \" + str(rho_max[i]))\n",
    "    plt.legend(loc = 'best', fontsize = 24)\n",
    "    plt.xlabel(r\"N\", fontsize = 24)\n",
    "    plt.ylabel(r\"max$\\frac{|\\lambda-\\lambda_{theo}|}{\\lambda_{theo}}$\", fontsize = 24)\n",
    "    plt.savefig('error.pdf')"
   ]
  },
  {
   "cell_type": "code",
   "execution_count": 63,
   "metadata": {},
   "outputs": [],
   "source": [
    "def test_eigen():\n",
    "    A, rho = discretize_HO(100,0,10)\n",
    "    a = np.diag(A)\n",
    "    b = np.diag(A,k=1)\n",
    "    lam = find_eigen(a,b, tol=10**(-8), max_iter= 10**6)\n",
    "    print(lam)"
   ]
  },
  {
   "cell_type": "code",
   "execution_count": 64,
   "metadata": {},
   "outputs": [
    {
     "name": "stdout",
     "output_type": "stream",
     "text": [
      "Converged\n",
      "[ 2.99687148  6.98433925 10.9617406 ]\n"
     ]
    }
   ],
   "source": [
    "if __name__ == '__main__':\n",
    "    test_eigen()\n",
    "    #main()"
   ]
  },
  {
   "cell_type": "code",
   "execution_count": 65,
   "metadata": {},
   "outputs": [
    {
     "name": "stderr",
     "output_type": "stream",
     "text": [
      "//anaconda3/lib/python3.7/site-packages/ipykernel_launcher.py:12: RuntimeWarning: divide by zero encountered in double_scalars\n",
      "  if sys.path[0] == '':\n",
      "//anaconda3/lib/python3.7/site-packages/ipykernel_launcher.py:11: RuntimeWarning: divide by zero encountered in double_scalars\n",
      "  # This is added back by InteractiveShellApp.init_path()\n"
     ]
    },
    {
     "name": "stdout",
     "output_type": "stream",
     "text": [
      "rel. err\n",
      "solution\n"
     ]
    },
    {
     "name": "stderr",
     "output_type": "stream",
     "text": [
      "//anaconda3/lib/python3.7/site-packages/ipykernel_launcher.py:12: RuntimeWarning: divide by zero encountered in double_scalars\n",
      "  if sys.path[0] == '':\n",
      "//anaconda3/lib/python3.7/site-packages/ipykernel_launcher.py:11: RuntimeWarning: divide by zero encountered in double_scalars\n",
      "  # This is added back by InteractiveShellApp.init_path()\n"
     ]
    },
    {
     "name": "stdout",
     "output_type": "stream",
     "text": [
      "2 10\n",
      "count: 106\n",
      "2 20\n",
      "count: 497\n",
      "2 30\n",
      "count: 1212\n",
      "2 40\n",
      "count: 2245\n",
      "2 50\n"
     ]
    },
    {
     "name": "stderr",
     "output_type": "stream",
     "text": [
      "//anaconda3/lib/python3.7/site-packages/ipykernel_launcher.py:11: RuntimeWarning: divide by zero encountered in double_scalars\n",
      "  # This is added back by InteractiveShellApp.init_path()\n",
      "//anaconda3/lib/python3.7/site-packages/ipykernel_launcher.py:12: RuntimeWarning: divide by zero encountered in double_scalars\n",
      "  if sys.path[0] == '':\n"
     ]
    },
    {
     "name": "stdout",
     "output_type": "stream",
     "text": [
      "count: 3562\n",
      "solution\n",
      "5 10\n",
      "count: 89\n",
      "5 20\n",
      "count: 474\n",
      "5 30\n",
      "count: 1110\n",
      "5 40\n",
      "count: 2105\n",
      "5 50\n",
      "count: 3311\n",
      "solution\n"
     ]
    },
    {
     "name": "stderr",
     "output_type": "stream",
     "text": [
      "//anaconda3/lib/python3.7/site-packages/ipykernel_launcher.py:12: RuntimeWarning: divide by zero encountered in double_scalars\n",
      "  if sys.path[0] == '':\n",
      "//anaconda3/lib/python3.7/site-packages/ipykernel_launcher.py:11: RuntimeWarning: divide by zero encountered in double_scalars\n",
      "  # This is added back by InteractiveShellApp.init_path()\n"
     ]
    },
    {
     "name": "stdout",
     "output_type": "stream",
     "text": [
      "7.5 10\n",
      "count: 64\n",
      "7.5 20\n",
      "count: 412\n",
      "7.5 30\n",
      "count: 1057\n",
      "7.5 40\n",
      "count: 1958\n",
      "7.5 50\n",
      "count: 3157\n",
      "solution\n"
     ]
    },
    {
     "name": "stderr",
     "output_type": "stream",
     "text": [
      "//anaconda3/lib/python3.7/site-packages/ipykernel_launcher.py:11: RuntimeWarning: divide by zero encountered in double_scalars\n",
      "  # This is added back by InteractiveShellApp.init_path()\n",
      "//anaconda3/lib/python3.7/site-packages/ipykernel_launcher.py:12: RuntimeWarning: divide by zero encountered in double_scalars\n",
      "  if sys.path[0] == '':\n"
     ]
    },
    {
     "name": "stdout",
     "output_type": "stream",
     "text": [
      "10 10\n",
      "count: 41\n",
      "10 20\n",
      "count: 308\n",
      "10 30\n",
      "count: 897\n",
      "10 40\n",
      "count: 1816\n",
      "10 50\n",
      "count: 2962\n",
      "solution\n"
     ]
    },
    {
     "name": "stderr",
     "output_type": "stream",
     "text": [
      "//anaconda3/lib/python3.7/site-packages/ipykernel_launcher.py:11: RuntimeWarning: divide by zero encountered in double_scalars\n",
      "  # This is added back by InteractiveShellApp.init_path()\n",
      "//anaconda3/lib/python3.7/site-packages/ipykernel_launcher.py:12: RuntimeWarning: divide by zero encountered in double_scalars\n",
      "  if sys.path[0] == '':\n"
     ]
    },
    {
     "name": "stdout",
     "output_type": "stream",
     "text": [
      "12.5 10\n",
      "count: 32\n",
      "12.5 20\n",
      "count: 207\n",
      "12.5 30\n",
      "count: 684\n",
      "12.5 40\n",
      "count: 1458\n",
      "12.5 50\n",
      "count: 2606\n"
     ]
    },
    {
     "data": {
      "image/png": "[encoded data removed]",
      "text/plain": [
       "<Figure size 720x720 with 1 Axes>"
      ]
     },
     "metadata": {
      "needs_background": "light"
     },
     "output_type": "display_data"
    }
   ],
   "source": [
    "main()"
   ]
  },
  {
   "cell_type": "code",
   "execution_count": null,
   "metadata": {},
   "outputs": [],
   "source": []
  }
 ],
 "metadata": {
  "kernelspec": {
   "display_name": "Python 3",
   "language": "python",
   "name": "python3"
  },
  "language_info": {
   "codemirror_mode": {
    "name": "ipython",
    "version": 3
   },
   "file_extension": ".py",
   "mimetype": "text/x-python",
   "name": "python",
   "nbconvert_exporter": "python",
   "pygments_lexer": "ipython3",
   "version": "3.7.3"
  }
 },
 "nbformat": 4,
 "nbformat_minor": 4
}
