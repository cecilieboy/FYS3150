{
 "cells": [
  {
   "cell_type": "code",
   "execution_count": 101,
   "metadata": {},
   "outputs": [],
   "source": [
    "import numpy as np\n",
    "from scipy.special import legendre\n",
    "import numpy.polynomial.legendre as leg\n",
    "from numpy.linalg import inv\n",
    "from matplotlib import pyplot as plt"
   ]
  },
  {
   "cell_type": "code",
   "execution_count": 6,
   "metadata": {},
   "outputs": [],
   "source": [
    "def returnroots (N):\n",
    "    input = np.zeros(N+1)\n",
    "    input[N] = 1\n",
    "    roots = leg.legroots(input)\n",
    "    return roots"
   ]
  },
  {
   "cell_type": "code",
   "execution_count": 7,
   "metadata": {},
   "outputs": [],
   "source": [
    "def L_function (N):\n",
    "    L = np.zeros((N, N))\n",
    "    roots = returnroots(N)\n",
    "    for i in range(N):\n",
    "        input = np.zeros(N)\n",
    "        input[i] = 1\n",
    "        for j in range(N):\n",
    "            L[j,i] = leg.legval(roots[j], input)  \n",
    "    L_invers = inv(L)\n",
    "    weights = 2 * L_invers[0,:]   \n",
    "    return weights "
   ]
  },
  {
   "cell_type": "code",
   "execution_count": 8,
   "metadata": {},
   "outputs": [],
   "source": [
    "def function(N,x1,y1,z1,x2,y2,z2):\n",
    "    \n",
    "    f = np.exp(-4 * np.sqrt(x1**2 + y1**2 + z1**2) + np.sqrt(x2**2 + y2**2 + z2**2)) * 1 / (np.sqrt(x1**2 + y1**2+ z1**2 - (x2**2 + y2**2 + z2**2)))\n",
    "    p = np.sqrt(x1**2 + y1**2+ z1**2 - (x2**2 + y2**2 + z2**2))\n",
    "    return f,p"
   ]
  },
  {
   "cell_type": "code",
   "execution_count": 66,
   "metadata": {},
   "outputs": [],
   "source": [
    "def changedfunction(N,x1,y1,z1,x2,y2,z2,a,b): \n",
    "\n",
    "    r1 = (b - a) / 2 * x1 + (b + a) / 2\n",
    "    s1 = (b - a) / 2 * y1 + (b + a) / 2\n",
    "    t1 = (b - a) / 2 * z1 + (b + a) / 2\n",
    "    \n",
    "    r2 = (b - a) / 2 * x2 + (b + a) / 2\n",
    "    s2 = (b - a) / 2 * y2 + (b + a) / 2\n",
    "    t2 = (b - a) / 2 * z2 + (b + a) / 2\n",
    "    \n",
    "    #print('used z2 - value',z2)\n",
    "    #print('resulting t2 - value',t2)\n",
    "    #print('r-values',r1,s1,t1,r2,s2,t2)\n",
    "\n",
    "    \n",
    "\n",
    "    f = np.exp(-4 * np.sqrt(r1**2 + s1**2 + t1**2) + np.sqrt(r2**2 + s2**2 + t2**2)) * 1 / (np.sqrt((r1 - r2)**2 + (s1 - s2)**2+ (t1 - t2)**2 ))\n",
    "\n",
    "\n",
    "    if np.sqrt((r1 - r2)**2 + (s1 - s2)**2+ (t1 - t2)**2 ) < 0.000001:\n",
    "\n",
    "        f = 0\n",
    "\n",
    "    else:\n",
    "        f = np.exp(-4 * np.sqrt(r1**2 + s1**2 + t1**2) + np.sqrt(r2**2 + s2**2 + t2**2)) * 1 / (np.sqrt((r1 - r2)**2 + (s1 - s2)**2+ (t1 - t2)**2 ))\n",
    "\n",
    "    return f"
   ]
  },
  {
   "cell_type": "code",
   "execution_count": 71,
   "metadata": {},
   "outputs": [],
   "source": [
    "def newintegral(N,a,b):\n",
    "\n",
    "    sum = 0\n",
    "\n",
    "    x1 = y1 = z1 = x2 = y2 = z2 = returnroots(N)\n",
    "    print(x1)\n",
    "\n",
    "    \n",
    "\n",
    "    weights = L_function(N)\n",
    "    print(weights)\n",
    "    \n",
    "    for i in range(N):\n",
    "        #print(i)\n",
    "        for j in range(N):\n",
    "            #print(j)\n",
    "            for k in range(N):\n",
    "                #print(k)\n",
    "                for l in range(N):\n",
    "                    #print(l)\n",
    "                    for m in range(N):\n",
    "                        #print(m)\n",
    "                        for n in range(N):\n",
    "                            #print(n)\n",
    "\n",
    "                            #print(x1[i],y1[j],z1[k],x2[l],y2[m],z2[n])\n",
    "                            \n",
    "                            #print()\n",
    "                            \n",
    "                            value = weights[i] * weights[j] * weights[k] * weights[l] * weights[m] * weights[n] * changedfunction(N,x1[i],y1[j],z1[k],x2[l],y2[m],z2[n],a,b)\n",
    "                            \n",
    "                            #print(function(N,x1[i],y1[j],z1[k],x2[l],y2[m],z2[n]))\n",
    "                            \n",
    "                            #print()\n",
    "                            \n",
    "                            #print('value added',value)\n",
    "                            #print(sum)\n",
    "                            #print('=========')\n",
    "                            sum += value\n",
    "                            \n",
    "\n",
    "\n",
    "\n",
    "     \n",
    "    return sum * (b-a) / 2"
   ]
  },
  {
   "cell_type": "code",
   "execution_count": 75,
   "metadata": {},
   "outputs": [
    {
     "name": "stdout",
     "output_type": "stream",
     "text": [
      "[-0.98156063 -0.90411726 -0.76990267 -0.58731795 -0.3678315  -0.12523341\n",
      "  0.12523341  0.3678315   0.58731795  0.76990267  0.90411726  0.98156063]\n",
      "[0.04717534 0.10693933 0.16007833 0.20316743 0.23349254 0.24914705\n",
      " 0.24914705 0.23349254 0.20316743 0.16007833 0.10693933 0.04717534]\n"
     ]
    },
    {
     "name": "stderr",
     "output_type": "stream",
     "text": [
      "//anaconda3/lib/python3.7/site-packages/ipykernel_launcher.py:17: RuntimeWarning: divide by zero encountered in double_scalars\n"
     ]
    },
    {
     "data": {
      "text/plain": [
       "2.8633350496581853"
      ]
     },
     "execution_count": 75,
     "metadata": {},
     "output_type": "execute_result"
    }
   ],
   "source": [
    "newintegral(12,-2,2)"
   ]
  },
  {
   "cell_type": "code",
   "execution_count": 158,
   "metadata": {},
   "outputs": [],
   "source": [
    "#do contour plot \n",
    "\n",
    "def contourplot():\n",
    "    \n",
    "    r1 = r2 = np.linspace(0.1,0.5,500)\n",
    "    \n",
    "    \n",
    "    R1,R2 = np.meshgrid(r1,r2)\n",
    "    \n",
    "    \n",
    "    \n",
    "        \n",
    "        \n",
    "    \n",
    "    A = np.exp(-4 * (R1 + R2)) * 1 / (np.abs(R1 - R2))\n",
    "    print(A)\n",
    "    \n",
    "    Awithout = np.nan_to_num(A)\n",
    "    print('did it work',Awithout)\n",
    "    \n",
    "    for i in range(len(A)):\n",
    "        for j in range(len(A)):\n",
    "            \n",
    "            if Awithout[i,j] > 500:\n",
    "                \n",
    "                Awithout[i,j] = 0\n",
    "                \n",
    "    print(Awithout)\n",
    "    print(np.max(Awithout))\n",
    "    \n",
    "    \n",
    "            \n",
    "            \n",
    "                \n",
    "    \n",
    "   \n",
    "    \n",
    "    \n",
    "    \n",
    "    plt.contourf(R1 ,R2 ,Awithout, vmin = 10**-10)\n",
    "\n",
    "\n",
    "\n",
    "\n",
    "    "
   ]
  },
  {
   "cell_type": "code",
   "execution_count": 159,
   "metadata": {},
   "outputs": [
    {
     "name": "stderr",
     "output_type": "stream",
     "text": [
      "//anaconda3/lib/python3.7/site-packages/ipykernel_launcher.py:15: RuntimeWarning: divide by zero encountered in true_divide\n",
      "  from ipykernel import kernelapp as app\n"
     ]
    },
    {
     "name": "stdout",
     "output_type": "stream",
     "text": [
      "[[           inf 5.58743445e+02 2.78477376e+02 ... 2.29172480e-01\n",
      "  2.27980122e-01 2.26794883e-01]\n",
      " [5.58743445e+02            inf 5.55171785e+02 ... 2.28899397e-01\n",
      "  2.27707539e-01 2.26522803e-01]\n",
      " [2.78477376e+02 5.55171785e+02            inf ... 2.28627569e-01\n",
      "  2.27436202e-01 2.26251962e-01]\n",
      " ...\n",
      " [2.29172480e-01 2.28899397e-01 2.28627569e-01 ...            inf\n",
      "  2.30696077e+01 1.14978777e+01]\n",
      " [2.27980122e-01 2.27707539e-01 2.27436202e-01 ... 2.30696077e+01\n",
      "             inf 2.29221396e+01]\n",
      " [2.26794883e-01 2.26522803e-01 2.26251962e-01 ... 1.14978777e+01\n",
      "  2.29221396e+01            inf]]\n",
      "did it work [[1.79769313e+308 5.58743445e+002 2.78477376e+002 ... 2.29172480e-001\n",
      "  2.27980122e-001 2.26794883e-001]\n",
      " [5.58743445e+002 1.79769313e+308 5.55171785e+002 ... 2.28899397e-001\n",
      "  2.27707539e-001 2.26522803e-001]\n",
      " [2.78477376e+002 5.55171785e+002 1.79769313e+308 ... 2.28627569e-001\n",
      "  2.27436202e-001 2.26251962e-001]\n",
      " ...\n",
      " [2.29172480e-001 2.28899397e-001 2.28627569e-001 ... 1.79769313e+308\n",
      "  2.30696077e+001 1.14978777e+001]\n",
      " [2.27980122e-001 2.27707539e-001 2.27436202e-001 ... 2.30696077e+001\n",
      "  1.79769313e+308 2.29221396e+001]\n",
      " [2.26794883e-001 2.26522803e-001 2.26251962e-001 ... 1.14978777e+001\n",
      "  2.29221396e+001 1.79769313e+308]]\n",
      "[[0.00000000e+00 0.00000000e+00 2.78477376e+02 ... 2.29172480e-01\n",
      "  2.27980122e-01 2.26794883e-01]\n",
      " [0.00000000e+00 0.00000000e+00 0.00000000e+00 ... 2.28899397e-01\n",
      "  2.27707539e-01 2.26522803e-01]\n",
      " [2.78477376e+02 0.00000000e+00 0.00000000e+00 ... 2.28627569e-01\n",
      "  2.27436202e-01 2.26251962e-01]\n",
      " ...\n",
      " [2.29172480e-01 2.28899397e-01 2.28627569e-01 ... 0.00000000e+00\n",
      "  2.30696077e+01 1.14978777e+01]\n",
      " [2.27980122e-01 2.27707539e-01 2.27436202e-01 ... 2.30696077e+01\n",
      "  0.00000000e+00 2.29221396e+01]\n",
      " [2.26794883e-01 2.26522803e-01 2.26251962e-01 ... 1.14978777e+01\n",
      "  2.29221396e+01 0.00000000e+00]]\n",
      "497.8304479437614\n"
     ]
    },
    {
     "data": {
      "image/png": "[encoded data removed]",
      "text/plain": [
       "<Figure size 432x288 with 1 Axes>"
      ]
     },
     "metadata": {
      "needs_background": "light"
     },
     "output_type": "display_data"
    }
   ],
   "source": [
    "contourplot()"
   ]
  },
  {
   "cell_type": "code",
   "execution_count": null,
   "metadata": {},
   "outputs": [],
   "source": []
  },
  {
   "cell_type": "code",
   "execution_count": null,
   "metadata": {},
   "outputs": [],
   "source": []
  }
 ],
 "metadata": {
  "kernelspec": {
   "display_name": "Python 3",
   "language": "python",
   "name": "python3"
  },
  "language_info": {
   "codemirror_mode": {
    "name": "ipython",
    "version": 3
   },
   "file_extension": ".py",
   "mimetype": "text/x-python",
   "name": "python",
   "nbconvert_exporter": "python",
   "pygments_lexer": "ipython3",
   "version": "3.7.3"
  }
 },
 "nbformat": 4,
 "nbformat_minor": 4
}
